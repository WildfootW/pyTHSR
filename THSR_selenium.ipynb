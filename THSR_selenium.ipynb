{
 "cells": [
  {
   "cell_type": "code",
   "execution_count": 82,
   "metadata": {
    "collapsed": false
   },
   "outputs": [],
   "source": [
    "import os, sys\n",
    "\n",
    "from selenium import webdriver\n",
    "from selenium.webdriver.common.by import By\n",
    "from selenium.webdriver.common.keys import Keys\n",
    "from selenium.webdriver.support.ui import Select\n",
    "from PIL import Image\n",
    "\n",
    "# driver = webdriver.Chrome()\n",
    "driver.get(\"https://irs.thsrc.com.tw/IMINT?student=university\")\n"
   ]
  },
  {
   "cell_type": "code",
   "execution_count": 83,
   "metadata": {
    "collapsed": false
   },
   "outputs": [],
   "source": [
    "elem = driver.find_element(By.XPATH, '//input[@id=\"toTimeInputField\"]')\n",
    "elem.clear()\n",
    "elem.send_keys(\"2017/12/02\")\n",
    "\n",
    "starttime = Select(driver.find_element(By.XPATH, '//select[@name=\"toTimeTable\"]'))\n",
    "starttime.select_by_visible_text('21:30')"
   ]
  },
  {
   "cell_type": "code",
   "execution_count": 84,
   "metadata": {
    "collapsed": false
   },
   "outputs": [],
   "source": [
    "start_sel = Select(driver.find_element(By.XPATH, '//select[@name=\"selectStartStation\"]'))\n",
    "\n",
    "# select by visible text\n",
    "start_sel.select_by_visible_text('台北')\n",
    "\n",
    "# select by value \n",
    "# select.select_by_value('1')\n",
    "\n",
    "end_sel = Select(driver.find_element(By.XPATH, '//select[@name=\"selectDestinationStation\"]'))\n",
    "end_sel.select_by_visible_text('台中')\n",
    "\n",
    "\n",
    "college_ticket = Select(driver.find_element(By.XPATH, '//select[@name=\"ticketPanel:rows:4:ticketAmount\"]'))\n",
    "college_ticket.select_by_visible_text('1')\n"
   ]
  },
  {
   "cell_type": "markdown",
   "metadata": {},
   "source": [
    "### Get Image"
   ]
  },
  {
   "cell_type": "code",
   "execution_count": 86,
   "metadata": {
    "collapsed": false,
    "scrolled": true
   },
   "outputs": [
    {
     "name": "stdout",
     "output_type": "stream",
     "text": [
      "https://irs.thsrc.com.twhttps://irs.thsrc.com.tw/IMINT/?wicket:interface=:0:BookingS1Form:homeCaptcha:passCode::IResourceListener&wicket:antiCache=1511437427520\n",
      "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\n"
     ]
    }
   ],
   "source": [
    "img_elem = driver.find_element(By.XPATH, '//img[@id=\"BookingS1Form_homeCaptcha_passCode\"]')\n",
    "url = 'https://irs.thsrc.com.tw' + img_elem.get_attribute('src')\n",
    "print(url)\n",
    "\n",
    "location = img_elem.location\n",
    "size = img_elem.size\n",
    "\n",
    "location = { k: v*2 for k, v in location.items() }\n",
    "size = { k: v*2 for k, v in size.items() }\n",
    "\n",
    "driver.get_screenshot_as_file('screenshot.png')\n",
    "\n",
    "im = Image.open('screenshot.png') # uses PIL library to open image in memory\n",
    "\n",
    "left = location['x']\n",
    "top = location['y']\n",
    "right = location['x'] + size['width']\n",
    "bottom = location['y'] + size['height']\n",
    "\n",
    "\n",
    "im = im.crop((left, top, right, bottom)) # defines crop points\n",
    "\n",
    "im.save('screenshot.png') # saves new cropped image\n",
    "from cStringIO import StringIO\n",
    "output = StringIO()\n",
    "im.save(output, format='JPEG')\n",
    "im_data = output.getvalue()\n",
    "\n",
    "import base64\n",
    "\n",
    "st = base64.b64encode(im_data)\n",
    "print(st)\n",
    "\n"
   ]
  },
  {
   "cell_type": "markdown",
   "metadata": {},
   "source": [
    "### Extract text from image"
   ]
  },
  {
   "cell_type": "code",
   "execution_count": 72,
   "metadata": {
    "collapsed": true
   },
   "outputs": [],
   "source": [
    "result = \"YYR9\"\n",
    "\n",
    "sec_input = driver.find_element(By.XPATH, '//input[@name=\"homeCaptcha:securityCode\"]')\n",
    "sec_input.clear()\n",
    "sec_input.send_keys(result)"
   ]
  },
  {
   "cell_type": "markdown",
   "metadata": {},
   "source": [
    "### Submit"
   ]
  },
  {
   "cell_type": "code",
   "execution_count": 73,
   "metadata": {
    "collapsed": true
   },
   "outputs": [],
   "source": [
    "driver.find_element(By.XPATH, '//input[@id=\"SubmitButton\"]').submit()"
   ]
  },
  {
   "cell_type": "code",
   "execution_count": null,
   "metadata": {
    "collapsed": true
   },
   "outputs": [],
   "source": []
  },
  {
   "cell_type": "markdown",
   "metadata": {},
   "source": [
    "## Select Train No. Stage"
   ]
  },
  {
   "cell_type": "code",
   "execution_count": 74,
   "metadata": {
    "collapsed": false
   },
   "outputs": [],
   "source": [
    "driver.find_element(By.XPATH, '//input[@name=\"SubmitButton\"]').submit()"
   ]
  },
  {
   "cell_type": "markdown",
   "metadata": {},
   "source": [
    "## Detail Stage"
   ]
  },
  {
   "cell_type": "code",
   "execution_count": 75,
   "metadata": {
    "collapsed": false
   },
   "outputs": [],
   "source": [
    "id_number = driver.find_element(By.XPATH, '//input[@id=\"idNumber\"]')\n",
    "id_number.clear()\n",
    "id_number.send_keys(\"B123082280\")\n",
    "\n",
    "# Use mobile No.\n",
    "driver.find_element(By.XPATH, '//input[@id=\"mobileInputRadio\"]').click()\n",
    "\n",
    "phone_num = driver.find_element(By.XPATH, '//input[@id=\"mobilePhone\"]')\n",
    "phone_num.clear()\n",
    "phone_num.send_keys(\"0920871088\")\n",
    "\n",
    "agree_box = driver.find_element(By.XPATH, '//input[@name=\"agree\"]')\n",
    "if not agree_box.get_attribute('checked'):\n",
    "    agree_box.click()\n",
    "    \n",
    "driver.find_element(By.XPATH, '//input[@id=\"isSubmit\"]').submit()"
   ]
  },
  {
   "cell_type": "code",
   "execution_count": 26,
   "metadata": {
    "collapsed": true
   },
   "outputs": [],
   "source": [
    "driver.quit()"
   ]
  },
  {
   "cell_type": "code",
   "execution_count": null,
   "metadata": {
    "collapsed": true
   },
   "outputs": [],
   "source": [
    "elem = driver.find_element_by_name(\"\")\n",
    "elem.clear()\n",
    "elem.send_keys(\"pycon\")\n",
    "elem.send_keys(Keys.RETURN)\n",
    "assert \"No results found.\" not in driver.page_source"
   ]
  },
  {
   "cell_type": "code",
   "execution_count": null,
   "metadata": {
    "collapsed": true
   },
   "outputs": [],
   "source": [
    "POST\n",
    "\n",
    "URL:\n",
    "https://irs.thsrc.com.tw/IMINT/?wicket:interface=:0:BookingS1Form:2:IFormSubmitListener\n",
    "\n",
    "Content-type:\n",
    "application/x-www-form-urlencoded\n",
    "\n",
    "Cookie:\n",
    "JSESSIONID=B3745614FC27186F833DAD5C1F778A01; THSRC-IRS=!fQko92GTUpxWidwKy69Um6q39Y8oq3SjzUrIudeqDBPvCh8hmgsKR9BIFqsEgsbCEa/Iyr36Tzp3Dg==; IRS-SESSION=1511600548; __utmt=1; __utma=98625990.503620017.1511365578.1511437428.1511600548.4; __utmb=98625990.3.10.1511600548; __utmc=98625990; __utmz=98625990.1511365578.1.1.utmcsr=(direct)|utmccn=(direct)|utmcmd=(none)\n",
    "\n",
    "FormData:\n",
    "BookingS1Form:hf:0:\n",
    "selectStartStation:1\n",
    "selectDestinationStation:6\n",
    "trainCon:trainRadioGroup:0\n",
    "seatCon:seatRadioGroup:radio18\n",
    "bookingMethod:radio25\n",
    "toTimeInputField:2017/11/25\n",
    "toTimeTable:700A     #100P = 13:00\n",
    "toTrainIDInputField:\n",
    "backTimeInputField:2017/11/25\n",
    "backTimeTable:\n",
    "backTrainIDInputField:\n",
    "ticketPanel:rows:0:ticketAmount:0F\n",
    "ticketPanel:rows:1:ticketAmount:0H\n",
    "ticketPanel:rows:2:ticketAmount:0W\n",
    "ticketPanel:rows:3:ticketAmount:0E\n",
    "ticketPanel:rows:4:ticketAmount:1P\n",
    "homeCaptcha:securityCode:M4YK\n",
    "SubmitButton:開始查詢"
   ]
  },
  {
   "cell_type": "code",
   "execution_count": null,
   "metadata": {
    "collapsed": true
   },
   "outputs": [],
   "source": [
    "Get\n",
    "\n",
    "https://irs.thsrc.com.tw/IMINT/?wicket:interface=:1::"
   ]
  },
  {
   "cell_type": "code",
   "execution_count": null,
   "metadata": {
    "collapsed": true
   },
   "outputs": [],
   "source": [
    "POST\n",
    "\n",
    "https://irs.thsrc.com.tw/IMINT/?wicket:interface=:6:BookingS2Form::IFormSubmitListener\n",
    "                        \n",
    "JSESSIONID=9EB59C1EDDE8743C2E23D8C492216F1A; THSRC-IRS=!fQko92GTUpxWidwKy69Um6q39Y8oq3SjzUrIudeqDBPvCh8hmgsKR9BIFqsEgsbCEa/Iyr36Tzp3Dg==; IRS-SESSION=1511600548; __utmt=1; __utma=98625990.503620017.1511365578.1511437428.1511600548.4; __utmb=98625990.11.10.1511600548; __utmc=98625990; __utmz=98625990.1511365578.1.1.utmcsr=(direct)|utmccn=(direct)|utmcmd=(none)\n",
    "\n",
    "BookingS2Form:hf:0:\n",
    "TrainQueryDataViewPanel:TrainGroup:radio18\n",
    "SubmitButton:確認車次\n",
    "    \n",
    "BookingS2Form%3Ahf%3A0=&TrainQueryDataViewPanel%3ATrainGroup=radio18&SubmitButton=%E7%A2%BA%E8%AA%8D%E8%BB%8A%E6%AC%A1"
   ]
  },
  {
   "cell_type": "code",
   "execution_count": null,
   "metadata": {
    "collapsed": true
   },
   "outputs": [],
   "source": []
  },
  {
   "cell_type": "code",
   "execution_count": null,
   "metadata": {
    "collapsed": true
   },
   "outputs": [],
   "source": []
  },
  {
   "cell_type": "code",
   "execution_count": null,
   "metadata": {
    "collapsed": true
   },
   "outputs": [],
   "source": []
  }
 ],
 "metadata": {
  "anaconda-cloud": {},
  "kernelspec": {
   "display_name": "Python [default]",
   "language": "python",
   "name": "python2"
  },
  "language_info": {
   "codemirror_mode": {
    "name": "ipython",
    "version": 2
   },
   "file_extension": ".py",
   "mimetype": "text/x-python",
   "name": "python",
   "nbconvert_exporter": "python",
   "pygments_lexer": "ipython2",
   "version": "2.7.13"
  }
 },
 "nbformat": 4,
 "nbformat_minor": 0
}
